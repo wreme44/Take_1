{
 "cells": [
  {
   "cell_type": "markdown",
   "metadata": {
    "id": "TGgvYNp2AgMz"
   },
   "source": [
    "Split Thyloid.csv into Train and Test datasets\n",
    "\n",
    "---\n",
    "\n"
   ]
  },
  {
   "cell_type": "code",
   "execution_count": 1,
   "metadata": {
    "colab": {
     "base_uri": "https://localhost:8080/"
    },
    "id": "MhbuoohlAQix",
    "outputId": "199cf192-2f26-425e-dcaf-cc02d96b5c29"
   },
   "outputs": [
    {
     "name": "stdout",
     "output_type": "stream",
     "text": [
      "(574, 1882)\n"
     ]
    }
   ],
   "source": [
    "import numpy as np\n",
    "import pandas as pd\n",
    "from sklearn.model_selection import train_test_split\n",
    "\n",
    "# Load the dataset\n",
    "data = pd.read_csv('Thyloid.csv')\n",
    "print(data.shape)\n",
    "\n",
    "# Splitting the data into training and testing sets\n",
    "train_data, test_data = train_test_split(data, test_size=0.2, random_state=42)\n",
    "\n",
    "# Storing the labels separately\n",
    "train_label = train_data.iloc[:, -1]\n",
    "test_label = test_data.iloc[:, -1]\n",
    "\n",
    "# Removing the last column from the data itself\n",
    "train_X = train_data.iloc[:, :-1]\n",
    "test_X = test_data.iloc[:, :-1]\n",
    "\n",
    "# Converting to numpy\n",
    "train = train_X.to_numpy()\n",
    "test = test_X.to_numpy()"
   ]
  },
  {
   "cell_type": "markdown",
   "metadata": {
    "id": "pyBoz_RhAnGI"
   },
   "source": [
    "Apply PCA and KPCA models to transform the Test dataset\n"
   ]
  },
  {
   "cell_type": "code",
   "execution_count": 2,
   "metadata": {
    "colab": {
     "base_uri": "https://localhost:8080/"
    },
    "id": "nmlPd3SzAeFk",
    "outputId": "442ceb23-539e-40ca-a8e6-3f27d591876e"
   },
   "outputs": [
    {
     "name": "stdout",
     "output_type": "stream",
     "text": [
      "PCA Train shape: (459, 7), Test shape: (115, 7)\n",
      "KPCA (RBF) Train shape: (459, 458), Test shape: (115, 458)\n",
      "KPCA (Poly) Train shape: (459, 458), Test shape: (115, 458)\n",
      "KPCA (Linear) Train shape: (459, 458), Test shape: (115, 458)\n"
     ]
    }
   ],
   "source": [
    "from sklearn.decomposition import PCA\n",
    "from sklearn.decomposition import KernelPCA\n",
    "\n",
    "# Function to apply PCA and transform data\n",
    "def apply_pca(train_data, test_data, n_components=0.95):\n",
    "    pca = PCA(n_components=n_components)\n",
    "    train_transformed = pca.fit_transform(train_data)\n",
    "    test_transformed = pca.transform(test_data)\n",
    "    return train_transformed, test_transformed, pca\n",
    "\n",
    "# Apply PCA\n",
    "train_pca, test_pca, pca_model = apply_pca(train, test)\n",
    "\n",
    "# Function to apply KPCA and transform data\n",
    "def apply_kpca(train_data, test_data, kernel='rbf', n_components=None, gamma=None, degree=3): # Set default degree to 3\n",
    "    kpca = KernelPCA(n_components=n_components, kernel=kernel, gamma=gamma, degree=degree)\n",
    "    train_transformed = kpca.fit_transform(train_data)\n",
    "    test_transformed = kpca.transform(test_data)\n",
    "    return train_transformed, test_transformed, kpca\n",
    "\n",
    "# Apply KPCA with RBF kernel\n",
    "train_kpca_rbf, test_kpca_rbf, kpca_rbf_model = apply_kpca(train, test, kernel='rbf', gamma=0.5)\n",
    "\n",
    "# Apply KPCA with Polynomial kernel\n",
    "train_kpca_poly, test_kpca_poly, kpca_poly_model = apply_kpca(train, test, kernel='poly') # No need to specify degree since default is now 3\n",
    "\n",
    "# Apply KPCA with Linear kernel\n",
    "train_kpca_linear, test_kpca_linear, kpca_linear_model = apply_kpca(train, test, kernel='linear')\n",
    "\n",
    "# Ensure the dimensionality reduction is consistent\n",
    "print(f'PCA Train shape: {train_pca.shape}, Test shape: {test_pca.shape}')\n",
    "print(f'KPCA (RBF) Train shape: {train_kpca_rbf.shape}, Test shape: {test_kpca_rbf.shape}')\n",
    "print(f'KPCA (Poly) Train shape: {train_kpca_poly.shape}, Test shape: {test_kpca_poly.shape}')\n",
    "print(f'KPCA (Linear) Train shape: {train_kpca_linear.shape}, Test shape: {test_kpca_linear.shape}')"
   ]
  },
  {
   "cell_type": "markdown",
   "metadata": {
    "id": "t7vh_8CeAsqp"
   },
   "source": [
    "Calculate the covariance matrix of the dataset"
   ]
  },
  {
   "cell_type": "code",
   "execution_count": 3,
   "metadata": {
    "colab": {
     "base_uri": "https://localhost:8080/"
    },
    "id": "lsg-L80eAtRD",
    "outputId": "dba34663-7bc5-4b92-c68f-12a150d30571"
   },
   "outputs": [
    {
     "name": "stdout",
     "output_type": "stream",
     "text": [
      "(1881, 1881)\n"
     ]
    }
   ],
   "source": [
    "# Function to compute the covariance matrix\n",
    "def compute_covariance_matrix(data):\n",
    "    mean_vec = np.mean(data, axis=0)\n",
    "    covariance_matrix = (data - mean_vec).T.dot((data - mean_vec)) / (data.shape[0] - 1)\n",
    "    return covariance_matrix\n",
    "\n",
    "# Calculate the covariance matrix of the training dataset\n",
    "cov_matrix = compute_covariance_matrix(train)\n",
    "print(cov_matrix.shape)"
   ]
  },
  {
   "cell_type": "markdown",
   "metadata": {
    "id": "SxBOIIA6AxeX"
   },
   "source": [
    "Identify the top 10 features with the highest covariance values"
   ]
  },
  {
   "cell_type": "code",
   "execution_count": 4,
   "metadata": {
    "colab": {
     "base_uri": "https://localhost:8080/",
     "height": 505
    },
    "id": "6KAYKtQSAzJ8",
    "outputId": "6f0f35ff-4cbf-43e5-a1cc-ff725eeeb7f2"
   },
   "outputs": [
    {
     "name": "stdout",
     "output_type": "stream",
     "text": [
      "Top 10 features with highest covariance values: [   2  226  357 1880  195  200  305  352  189  285]\n"
     ]
    },
    {
     "data": {
      "image/png": "[encoded data removed]",
      "text/plain": [
       "<Figure size 1000x500 with 1 Axes>"
      ]
     },
     "metadata": {},
     "output_type": "display_data"
    }
   ],
   "source": [
    "# Identify the top 10 features with the highest covariance values\n",
    "cov_sum = np.sum(np.abs(cov_matrix), axis=0)\n",
    "top_10_feature_indices = np.argsort(cov_sum)[-10:]\n",
    "\n",
    "print(f'Top 10 features with highest covariance values: {top_10_feature_indices}')\n",
    "\n",
    "# Extract top 10 features\n",
    "train_top_10 = train[:, top_10_feature_indices]\n",
    "test_top_10 = test[:, top_10_feature_indices]\n",
    "\n",
    "# Visualizing the top 10 features\n",
    "import matplotlib.pyplot as plt\n",
    "\n",
    "plt.figure(figsize=(10, 5))\n",
    "plt.bar(range(len(top_10_feature_indices)), cov_sum[top_10_feature_indices])\n",
    "plt.xlabel('Feature Index')\n",
    "plt.ylabel('Covariance Sum')\n",
    "plt.title('Top 10 Features with Highest Covariance')\n",
    "plt.show()"
   ]
  },
  {
   "cell_type": "code",
   "execution_count": null,
   "metadata": {
    "id": "-GiSOjDiBA_7"
   },
   "outputs": [],
   "source": [
    "from scipy.stats import multivariate_normal\n",
    "\n",
    "# Function to calculate the mean and covariance for each class\n",
    "def calculate_mean_covariance(X, y):\n",
    "    classes = np.unique(y)\n",
    "    mean_cov = {}\n",
    "    for cls in classes:\n",
    "        X_cls = X[y == cls]\n",
    "        mean_cov[cls] = {\n",
    "            'mean': np.mean(X_cls, axis=0),\n",
    "            # Add a small regularization term to the diagonal to ensure positive definiteness\n",
    "            'cov': np.cov(X_cls, rowvar=False) + 1e-6 * np.eye(X_cls.shape[1])\n",
    "        }\n",
    "    return mean_cov\n",
    "\n",
    "# Function to predict using the Bayes classifier\n",
    "def bayes_predict(X, mean_cov):\n",
    "    classes = list(mean_cov.keys())\n",
    "    predictions = []\n",
    "    for x in X:\n",
    "        probabilities = []\n",
    "        for cls in classes:\n",
    "            mean = mean_cov[cls]['mean']\n",
    "            cov = mean_cov[cls]['cov']\n",
    "            # Set allow_singular to True to handle potentially singular matrices\n",
    "            prob = multivariate_normal.pdf(x, mean=mean, cov=cov, allow_singular=True)\n",
    "            probabilities.append(prob)\n",
    "        predictions.append(classes[np.argmax(probabilities)])\n",
    "    return np.array(predictions)\n",
    "\n",
    "# Train Bayes classifier\n",
    "mean_cov = calculate_mean_covariance(train, train_label)\n",
    "\n",
    "# Predict on test data\n",
    "bayes_predictions = bayes_predict(test, mean_cov)\n",
    "\n",
    "# Evaluate accuracy\n",
    "bayes_accuracy = calculate_accuracy(test_label.to_numpy(), bayes_predictions)\n",
    "print(f'Bayes Classifier Accuracy: {bayes_accuracy}')"
   ]
  },
  {
   "cell_type": "code",
   "execution_count": null,
   "metadata": {
    "id": "ae6U4rwoH7Ll"
   },
   "outputs": [],
   "source": [
    "from sklearn.neighbors import KNeighborsClassifier\n",
    "from sklearn.naive_bayes import GaussianNB\n",
    "from sklearn.discriminant_analysis import LinearDiscriminantAnalysis\n",
    "from sklearn.svm import SVC\n",
    "from sklearn.metrics import accuracy_score, precision_score, recall_score, f1_score\n",
    "\n",
    "# Function to evaluate classifier\n",
    "def evaluate_classifier(clf, X_train, y_train, X_test, y_test):\n",
    "    clf.fit(X_train, y_train)\n",
    "    predictions = clf.predict(X_test)\n",
    "    accuracy = accuracy_score(y_test, predictions)\n",
    "    precision = precision_score(y_test, predictions, average='macro')\n",
    "    recall = recall_score(y_test, predictions, average='macro')\n",
    "    f1 = f1_score(y_test, predictions, average='macro')\n",
    "    return accuracy, precision, recall, f1\n",
    "\n",
    "# KNN\n",
    "knn = KNeighborsClassifier()\n",
    "knn_metrics = evaluate_classifier(knn, train, train_label, test, test_label)\n",
    "\n",
    "# Naive Bayes\n",
    "nb = GaussianNB()\n",
    "nb_metrics = evaluate_classifier(nb, train, train_label, test, test_label)\n",
    "\n",
    "# LDA\n",
    "lda = LinearDiscriminantAnalysis()\n",
    "lda_metrics = evaluate_classifier(lda, train, train_label, test, test_label)\n",
    "\n",
    "# SVM\n",
    "svm = SVC()\n",
    "svm_metrics = evaluate_classifier(svm, train, train_label, test, test_label)\n",
    "\n",
    "# Print metrics\n",
    "print(f'KNN Metrics: {knn_metrics}')\n",
    "print(f'Naive Bayes Metrics: {nb_metrics}')\n",
    "print(f'LDA Metrics: {lda_metrics}')\n",
    "print(f'SVM Metrics: {svm_metrics}')"
   ]
  },
  {
   "cell_type": "code",
   "execution_count": null,
   "metadata": {
    "id": "P2lXXpxGID6M"
   },
   "outputs": [],
   "source": [
    "# Function to test and evaluate classifiers on different datasets\n",
    "def test_classifiers_on_datasets(datasets, classifiers):\n",
    "    results = {}\n",
    "    for dataset_label, (X_train, X_test) in datasets.items():\n",
    "        results[dataset_label] = {}\n",
    "        for clf_label, clf in classifiers.items():\n",
    "            if clf_label == 'Bayes (Scratch)':\n",
    "                mean_cov = calculate_mean_covariance(X_train, train_label)\n",
    "                predictions = bayes_predict(X_test, mean_cov)\n",
    "                accuracy = calculate_accuracy(test_label.to_numpy(), predictions)\n",
    "                precision = precision_score(test_label, predictions, average='macro')\n",
    "                recall = recall_score(test_label, predictions, average='macro')\n",
    "                f1 = f1_score(test_label, predictions, average='macro')\n",
    "            else:\n",
    "                accuracy, precision, recall, f1 = evaluate_classifier(clf, X_train, train_label, X_test, test_label)\n",
    "            results[dataset_label][clf_label] = (accuracy, precision, recall, f1)\n",
    "            print(f'{clf_label} on {dataset_label}: Accuracy={accuracy}, Precision={precision}, Recall={recall}, F1={f1}')\n",
    "    return results\n",
    "\n",
    "# Datasets to test\n",
    "datasets = {\n",
    "    'Whole Data': (train, test),\n",
    "    'PCA': (train_pca, test_pca),\n",
    "    'KPCA (RBF)': (train_kpca_rbf, test_kpca_rbf),\n",
    "    'KPCA (Poly)': (train_kpca_poly, test_kpca_poly),\n",
    "    'KPCA (Linear)': (train_kpca_linear, test_kpca_linear),\n",
    "    'Top 10 Features': (train_top_10, test_top_10)\n",
    "}\n",
    "\n",
    "# Classifiers to test\n",
    "classifiers = {\n",
    "    'KNN': KNeighborsClassifier(),\n",
    "    'Naive Bayes': GaussianNB(),\n",
    "    'LDA': LinearDiscriminantAnalysis(),\n",
    "    'SVM': SVC(),\n",
    "    'Bayes (Scratch)': 'Bayes (Scratch)'\n",
    "}\n",
    "\n",
    "# Test and evaluate classifiers on different datasets\n",
    "results = test_classifiers_on_datasets(datasets, classifiers)"
   ]
  },
  {
   "cell_type": "code",
   "execution_count": null,
   "metadata": {
    "id": "vZb8anNPIKtY"
   },
   "outputs": [],
   "source": [
    "from sklearn.model_selection import GridSearchCV\n",
    "\n",
    "# Function to perform grid search to find the best number of dimensions\n",
    "def grid_search_best_dims(clf, X_train, y_train, X_test, y_test, dim_range):\n",
    "    best_accuracy = 0\n",
    "    best_dim = 0\n",
    "    for dim in dim_range:\n",
    "        pca = PCA(n_components=dim)\n",
    "        X_train_pca = pca.fit_transform(X_train)\n",
    "        X_test_pca = pca.transform(X_test)\n",
    "        accuracy, _, _, _ = evaluate_classifier(clf, X_train_pca, y_train, X_test_pca, y_test)\n",
    "        if accuracy > best_accuracy:\n",
    "            best_accuracy = accuracy\n",
    "            best_dim = dim\n",
    "    return best_dim, best_accuracy\n",
    "\n",
    "# Define range of dimensions to test\n",
    "dim_range = range(1, min(train.shape[1], 20))\n",
    "\n",
    "# Perform grid search for each classifier and dataset\n",
    "best_dims = {}\n",
    "for dataset_label, (X_train, X_test) in datasets.items():\n",
    "    best_dims[dataset_label] = {}\n",
    "    for clf_label, clf in classifiers.items():\n",
    "        if clf_label != 'Bayes (Scratch)':\n",
    "            best_dim, best_accuracy = grid_search_best_dims(clf, X_train, train_label, X_test, test_label, dim_range)\n",
    "            best_dims[dataset_label][clf_label] = (best_dim, best_accuracy)\n",
    "            print(f'Best dimensions for {clf_label} on {dataset_label}: {best_dim}, Accuracy: {best_accuracy}')\n",
    "\n",
    "# Print best dimensions for Bayes Classifier separately\n",
    "for dataset_label, (X_train, X_test) in datasets.items():\n",
    "    if dataset_label not in best_dims:\n",
    "        best_dims[dataset_label] = {}\n",
    "    best_dim, best_accuracy = grid_search_best_dims(GaussianNB(), X_train, train_label, X_test, test_label, dim_range)\n",
    "    best_dims[dataset_label]['Bayes (Scratch)'] = (best_dim, best_accuracy)\n",
    "    print(f'Best dimensions for Bayes (Scratch) on {dataset_label}: {best_dim}, Accuracy: {best_accuracy}')"
   ]
  },
  {
   "cell_type": "code",
   "execution_count": null,
   "metadata": {
    "id": "Cpop1QScIQ0H"
   },
   "outputs": [],
   "source": [
    "# Function to plot results\n",
    "def plot_results(results, metric):\n",
    "    fig, ax = plt.subplots(figsize=(12, 8))\n",
    "    for clf_label in classifiers.keys():\n",
    "        if clf_label == 'Bayes (Scratch)':\n",
    "            continue\n",
    "        metrics = [results[dataset_label][clf_label][metric] for dataset_label in datasets.keys()]\n",
    "        ax.plot(datasets.keys(), metrics, label=clf_label, marker='o')\n",
    "\n",
    "    ax.set_xlabel('Dataset')\n",
    "    ax.set_ylabel(metric.capitalize())\n",
    "    ax.set_title(f'Classifier Performance: {metric.capitalize()}')\n",
    "    ax.legend()\n",
    "    ax.grid(True)\n",
    "    plt.xticks(rotation=45)\n",
    "    plt.show()\n",
    "\n",
    "# Plot accuracy for each classifier and dataset\n",
    "plot_results(results, 0)  # Accuracy\n",
    "plot_results(results, 1)  # Precision\n",
    "plot_results(results, 2)  # Recall\n",
    "plot_results(results, 3)  # F1 Score"
   ]
  }
 ],
 "metadata": {
  "colab": {
   "provenance": []
  },
  "kernelspec": {
   "display_name": "Python 3",
   "name": "python3"
  },
  "language_info": {
   "name": "python"
  }
 },
 "nbformat": 4,
 "nbformat_minor": 0
}
