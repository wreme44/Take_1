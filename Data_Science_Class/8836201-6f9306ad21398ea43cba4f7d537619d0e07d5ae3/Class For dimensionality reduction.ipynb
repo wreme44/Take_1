{
 "cells": [
  {
   "cell_type": "code",
   "execution_count": 5,
   "id": "ccd6e8fe",
   "metadata": {},
   "outputs": [],
   "source": [
    "import pandas as pd\n",
    "import numpy as np\n",
    "import pandas as pd\n",
    "import matplotlib.pyplot as plt"
   ]
  },
  {
   "cell_type": "code",
   "execution_count": null,
   "id": "87562d8a",
   "metadata": {},
   "outputs": [],
   "source": [
    "def my_pca(D, alpha):\n",
    "    mu=np.mean(D,axis=0)\n",
    "    # center your data\n",
    "    D_bar=D-mu\n",
    "    #compute cov matrix\n",
    "    cov_matrix=np.cov(D_bar,rowvar=False)\n",
    "    # compute eigen values, and eigen vectors\n",
    "    eigv, eigvect=np.lialg.eigh(cov_matrix)\n",
    "    idx=np.argsort(eigv)[::-1]\n",
    "    eigv=eigv[idx]\n",
    "    eigvect=eigvect[:,idx]\n",
    "    red_eigv=eigvect[:,:k]\n",
    "    project_data=np.dot(D_bar, red_eigv)\n",
    "    return project_data, red_eigv, mu"
   ]
  }
 ],
 "metadata": {
  "kernelspec": {
   "display_name": "Python 3 (ipykernel)",
   "language": "python",
   "name": "python3"
  },
  "language_info": {
   "codemirror_mode": {
    "name": "ipython",
    "version": 3
   },
   "file_extension": ".py",
   "mimetype": "text/x-python",
   "name": "python",
   "nbconvert_exporter": "python",
   "pygments_lexer": "ipython3",
   "version": "3.11.7"
  }
 },
 "nbformat": 4,
 "nbformat_minor": 5
}
